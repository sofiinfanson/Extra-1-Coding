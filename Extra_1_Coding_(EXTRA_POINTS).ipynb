{
  "cells": [
    {
      "cell_type": "markdown",
      "metadata": {
        "id": "Ds1EmTqbLLKd"
      },
      "source": [
        "# Problem Set\n",
        "[![Open In Colab](https://colab.research.google.com/assets/colab-badge.svg)](https://colab.research.google.com/github/HesusG/python-decision-making-support-analysis/blob/main/module_1/problem_set.ipynb)"
      ]
    },
    {
      "cell_type": "markdown",
      "metadata": {
        "id": "REkoBiflLLKk"
      },
      "source": [
        "## Problem Set Introduction \n",
        "\n",
        "Welcome to the Linear Programming Problem Set! 🙌\n",
        "\n",
        "This set consists of three bi-dimensional linear programming problems that require the application of a systematic six-step approach. These steps include:\n",
        "\n",
        "1. Identify the objective 🎯\n",
        "2. Specify decision variables ✏️\n",
        "3. Formulate the objective function 📋\n",
        "4. Define constraints ⛓️\n",
        "5. Consider hidden conditions 🔍\n",
        "6. Formulate the complete model ⚙️\n",
        "\n",
        "To solve these problems effectively, it is recommended to use Python, a powerful programming language that offers various libraries and solvers for linear programming. 🐍 Make sure to include code implementation for each problem to validate your results. 💻\n",
        "\n",
        "Remember to document your thought process, assumptions, and code implementation. This will aid in understanding the problem-solving approach and serve as a valuable reference.\n",
        "\n",
        "Let's begin solving these bi-dimensional linear programming problems using the six-step methodology and Python programming. Good luck and enjoy the problem-solving journey! 😄\n",
        "\n",
        "\n",
        "![Random Giphy](https://media.giphy.com/media/Ws6T5PN7wHv3cY8xy8/giphy.gif)\n",
        "\n",
        "* Remember to use the following code to install pulp in your notebook and make sure to load it by using import."
      ]
    },
    {
      "cell_type": "code",
      "execution_count": 18,
      "metadata": {
        "id": "FcshHmBaLLKn",
        "outputId": "a0c1b389-2268-4b3e-bb24-4f5579491cce",
        "colab": {
          "base_uri": "https://localhost:8080/"
        }
      },
      "outputs": [
        {
          "output_type": "stream",
          "name": "stdout",
          "text": [
            "Looking in indexes: https://pypi.org/simple, https://us-python.pkg.dev/colab-wheels/public/simple/\n",
            "Requirement already satisfied: pulp in /usr/local/lib/python3.10/dist-packages (2.7.0)\n"
          ]
        }
      ],
      "source": [
        "!pip install pulp"
      ]
    },
    {
      "cell_type": "code",
      "execution_count": 19,
      "metadata": {
        "id": "CaMLSZIpLLKp"
      },
      "outputs": [],
      "source": [
        "from pulp import*"
      ]
    },
    {
      "cell_type": "markdown",
      "metadata": {
        "id": "B435vfuSLLKq"
      },
      "source": [
        "## Problem 1\n",
        "A company manufactures and sells two types of hydraulic pumps: 1) Normal and 2) Heavy-duty. The production process for the pumps consists of three activities: assembly, painting, and testing (quality control), with their respective times listed in the table below. The profit contribution from selling a normal pump is $50, while a heavy-duty pump yields a profit of $75. There are 4800 hours available per week for assembly, 1980 hours for painting, and 900 hours for quality testing. Based on past experiences, the company expects to sell 300 normal pumps and 180 heavy-duty pumps. The manager is interested in determining the quantity of pumps to manufacture weekly in order to maximize profits."
      ]
    },
    {
      "cell_type": "markdown",
      "metadata": {
        "id": "duP-sY3tLLKq"
      },
      "source": [
        "|    Type     | Assembly Time | Painting Time | Testing Time |\n",
        "|-------------|---------------|---------------|--------------|\n",
        "|   Normal    |      3.6      |      1.6      |     0.6      |\n",
        "|   Heavy-duty |      4.8      |      1.8      |     0.6      |\n"
      ]
    },
    {
      "cell_type": "code",
      "execution_count": null,
      "metadata": {
        "id": "N44MqBunLLKr",
        "outputId": "e5c9e702-8920-4cc4-d4c5-b5611e33a845",
        "colab": {
          "base_uri": "https://localhost:8080/"
        }
      },
      "outputs": [
        {
          "output_type": "stream",
          "name": "stdout",
          "text": [
            "Optimal Solution\n",
            "Normal 300.0\n",
            "Heavy-duty 775.0\n",
            "Profit 73125.0\n"
          ]
        }
      ],
      "source": [
        "#Your code goes here\n",
        "#Step 1 (this is a comment)\n",
        "prob = LpProblem('Maximize_Profits', LpMaximize)\n",
        "\n",
        "#Step 2 Identify the decision variables\n",
        "x1 = LpVariable('Normal', lowBound= 0, cat='integer')\n",
        "x2 = LpVariable('Heavy-duty', lowBound= 0, cat='integer')\n",
        "\n",
        "#Step 3 Objective function \n",
        "prob += 50*x1 + 75*x2, 'Maximize_Profits'\n",
        "\n",
        "#Step 4 Define the constraints \n",
        "prob += 3.6*x1 + 4.8*x2 <= 4800, 'Assembly Constraint'\n",
        "prob += 1.6*x1 + 1.8*x2 <= 1980, 'Painting Constraint'\n",
        "prob += 0.6*x1 + 0.6*x2 <= 900, 'Testing Constraint'\n",
        "prob += x1 >= 300, 'Normal Constraint'\n",
        "prob += x2 >= 180, 'Heavy-duty Constraint'\n",
        "\n",
        "#Solving the problem\n",
        "prob.solve()\n",
        "\n",
        "print('Optimal Solution')\n",
        "print('Normal', x1.varValue)\n",
        "print('Heavy-duty', x2.varValue)\n",
        "print('Profit', prob.objective.value())\n"
      ]
    },
    {
      "cell_type": "markdown",
      "metadata": {
        "id": "6rBLDPS4LLKs"
      },
      "source": [
        "## Problem 2\n",
        " A company is interested in developing a fertilizer that contains a minimum of 100 units of potassium, 25 units of nitrogen, and 10 units of ammonia. For this purpose, they have products A and B, which cost 10 and 15 euros per ton in the market, respectively. The content of potassium, nitrogen, and ammonia per ton of product is shown in the following table.\n",
        "\n",
        "Develop the formulation of the new fertilizer taking into consideration that it is desired for the fertilizer to cost as little as possible.\n"
      ]
    },
    {
      "cell_type": "markdown",
      "metadata": {
        "id": "urSQW9ZFLLKs"
      },
      "source": [
        "|      | POTASSIUM | NITROGEN | AMMONIA |\n",
        "|---------|------------|----------|---------|\n",
        "| Product A |      2       |      0.3     |     0.2    |\n",
        "| Product B |      1       |      0.6     |     0.2    |\n"
      ]
    },
    {
      "cell_type": "code",
      "execution_count": 17,
      "metadata": {
        "id": "74Ilh6kSLLKs",
        "colab": {
          "base_uri": "https://localhost:8080/"
        },
        "outputId": "ab1b4623-43dc-4083-9f97-bf0329b5978c"
      },
      "outputs": [
        {
          "output_type": "stream",
          "name": "stdout",
          "text": [
            "Optimal Solution\n",
            "ProductA 38.888889\n",
            "ProudctB 22.222222\n",
            "Profit 722.22222\n"
          ]
        }
      ],
      "source": [
        "# Your code goes here\n",
        "#Step 1 \n",
        "prob = LpProblem('Minimize_Profits', LpMinimize)\n",
        "\n",
        "#Step 2 Identify the variables \n",
        "x1= LpVariable('ProdutA', lowBound=0, cat ='integer')\n",
        "x2= LpVariable('ProductB', lowBound=0, cat ='integer')\n",
        "\n",
        "\n",
        "#Step 3 Objective function\n",
        "prob += 10*x1 + 15*x2, 'Minimize_Profits'\n",
        "\n",
        "#Step 4 Define the constraints\n",
        "prob += 2*x1 + 1*x2 >= 100, 'Potassium Constraint'\n",
        "prob += 0.3*x1 + 0.6*x2 >= 25, 'Nitrogen Constraint'\n",
        "prob += 0.2*x1 + 0.2*x2 >= 10, 'Ammonia Constraint'\n",
        "\n",
        "#Solving the problem \n",
        "prob.solve()\n",
        "\n",
        "print('Optimal Solution')\n",
        "print('ProductA', x1.varValue)\n",
        "print('ProudctB', x2.varValue)\n",
        "print('Profit',prob.objective.value())\n",
        "\n"
      ]
    },
    {
      "cell_type": "markdown",
      "metadata": {
        "id": "b30BsFTxLLKt"
      },
      "source": [
        "## Problem 3\n",
        "A bakery is famous for its two specialties: the imperial cake and the lime cake. The imperial cake requires half a kilogram of sugar and eight eggs, and it is sold for eight dollars. The lime cake requires one kilogram of sugar and eight eggs, and it is sold for ten dollars. In the warehouse, there are only ten kilograms of sugar and one hundred twenty eggs. What combination of these specialties can be made in order to make the most profits?"
      ]
    },
    {
      "cell_type": "markdown",
      "metadata": {
        "id": "gffp9QZhLLKt"
      },
      "source": [
        "|            | Sugar (kilogram) | Eggs | Price |\n",
        "|------------|-----------------|------|-------|\n",
        "| Imperial Cake |      0.5        |   8   |   8   |\n",
        "| Lime Cake   |        1          |   8   |  10  |\n"
      ]
    },
    {
      "cell_type": "code",
      "execution_count": 24,
      "metadata": {
        "id": "7JfOjhKXLLKu",
        "colab": {
          "base_uri": "https://localhost:8080/"
        },
        "outputId": "96179a48-6e5f-4e59-b930-080ce0fabde1"
      },
      "outputs": [
        {
          "output_type": "stream",
          "name": "stdout",
          "text": [
            "Optimal Solution\n",
            "ImperialCake 10.0\n",
            "LimeCake 5.0\n",
            "Profit 130.0\n"
          ]
        }
      ],
      "source": [
        "# Your code goes here\n",
        "#Step 1\n",
        "prob = LpProblem('Maximize_Profit',LpMaximize)\n",
        "\n",
        "#Step 2 Identify variables\n",
        "x1= LpVariable('ImperialCake', lowBound=0, cat='integer')\n",
        "x2= LpVariable('LimeCake',lowBound=0, cat='integer')\n",
        "\n",
        "#Step 3 Objective function\n",
        "prob += 8*x1 + 10*x2, 'Maximize_Profit'\n",
        "\n",
        "#Step 4 Define the constraints\n",
        "prob += 0.5*x1 + 1*x2 <= 10, 'Sugar Constraint'\n",
        "prob += 8*x1 + 8*x2 <= 120, 'Eggs Constraint'\n",
        "\n",
        "#Step 5 Solving the problem \n",
        "prob.solve()\n",
        "\n",
        "print('Optimal Solution')\n",
        "print('ImperialCake', x1.varValue)\n",
        "print('LimeCake', x2.varValue)\n",
        "print('Profit', prob.objective.value())"
      ]
    }
  ],
  "metadata": {
    "language_info": {
      "name": "python"
    },
    "orig_nbformat": 4,
    "colab": {
      "provenance": []
    },
    "kernelspec": {
      "name": "python3",
      "display_name": "Python 3"
    }
  },
  "nbformat": 4,
  "nbformat_minor": 0
}